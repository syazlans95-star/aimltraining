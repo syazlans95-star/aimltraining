{
 "cells": [
  {
   "cell_type": "code",
   "execution_count": null,
   "id": "14f2868a-8782-41ed-a598-e8f8839fd63c",
   "metadata": {},
   "outputs": [],
   "source": [
    "rows,cols=patient_data.shape\n",
    "print ('Rows:',rows)\n",
    "print ('Columns: ',cols)"
   ]
  }
 ],
 "metadata": {
  "kernelspec": {
   "display_name": "Python [conda env:base] *",
   "language": "python",
   "name": "conda-base-py"
  },
  "language_info": {
   "codemirror_mode": {
    "name": "ipython",
    "version": 3
   },
   "file_extension": ".py",
   "mimetype": "text/x-python",
   "name": "python",
   "nbconvert_exporter": "python",
   "pygments_lexer": "ipython3",
   "version": "3.13.5"
  }
 },
 "nbformat": 4,
 "nbformat_minor": 5
}
