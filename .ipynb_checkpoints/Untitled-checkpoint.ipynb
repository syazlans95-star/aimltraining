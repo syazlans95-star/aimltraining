{
 "cells": [
  {
   "cell_type": "markdown",
   "id": "9437f253-3b73-4f8c-bc98-d010d7ee5648",
   "metadata": {},
   "source": [
    "# #use patent file and display all records\n",
    "## show number of row and columns in your dataset"
   ]
  },
  {
   "cell_type": "code",
   "execution_count": null,
   "id": "f7135a5f-a868-49a0-a912-81960a61894f",
   "metadata": {},
   "outputs": [],
   "source": []
  }
 ],
 "metadata": {
  "kernelspec": {
   "display_name": "Python [conda env:base] *",
   "language": "python",
   "name": "conda-base-py"
  },
  "language_info": {
   "codemirror_mode": {
    "name": "ipython",
    "version": 3
   },
   "file_extension": ".py",
   "mimetype": "text/x-python",
   "name": "python",
   "nbconvert_exporter": "python",
   "pygments_lexer": "ipython3",
   "version": "3.13.5"
  }
 },
 "nbformat": 4,
 "nbformat_minor": 5
}
